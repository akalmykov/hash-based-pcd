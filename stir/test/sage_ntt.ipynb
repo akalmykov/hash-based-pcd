{
 "cells": [
  {
   "cell_type": "code",
   "execution_count": 4,
   "metadata": {
    "vscode": {
     "languageId": "plaintext"
    }
   },
   "outputs": [],
   "source": [
    "\n",
    "FIELD192 = 4787605948707450321761805915146316350821882368518086721537\n",
    "F = GF(FIELD192)  \n",
    "R.<x> = PolynomialRing(F)\n",
    "d=2**20\n",
    "poly = R.random_element(degree=d)\n",
    "# print(poly)\n",
    "# R = NTT_Ring(F, N)\n",
    "# log_rho_inv = 2\n",
    "# size = d * (1 << log_rho_inv)\n",
    "# f_ntt = R.fft(poly)  \n",
    "\n",
    "\n",
    "\n"
   ]
  },
  {
   "cell_type": "code",
   "execution_count": 5,
   "metadata": {
    "vscode": {
     "languageId": "plaintext"
    }
   },
   "outputs": [
    {
     "ename": "AttributeError",
     "evalue": "'int' object has no attribute 'nbits'",
     "output_type": "error",
     "traceback": [
      "\u001b[0;31m---------------------------------------------------------------------------\u001b[0m",
      "\u001b[0;31mAttributeError\u001b[0m                            Traceback (most recent call last)",
      "\u001b[0;32m/tmp/ipykernel_743875/349547281.py\u001b[0m in \u001b[0;36m<module>\u001b[0;34m\u001b[0m\n\u001b[1;32m     62\u001b[0m \u001b[0;31m# 4.  Perform forward and inverse transforms\u001b[0m\u001b[0;34m\u001b[0m\u001b[0;34m\u001b[0m\u001b[0m\n\u001b[1;32m     63\u001b[0m \u001b[0;31m###############################################################################\u001b[0m\u001b[0;34m\u001b[0m\u001b[0;34m\u001b[0m\u001b[0m\n\u001b[0;32m---> 64\u001b[0;31m \u001b[0mA\u001b[0m  \u001b[0;34m=\u001b[0m \u001b[0mntt\u001b[0m\u001b[0;34m(\u001b[0m\u001b[0mcoeff\u001b[0m\u001b[0;34m[\u001b[0m\u001b[0;34m:\u001b[0m\u001b[0;34m]\u001b[0m\u001b[0;34m,\u001b[0m \u001b[0momega\u001b[0m\u001b[0;34m)\u001b[0m           \u001b[0;31m# forward NTT  (copy because it’s in-place)\u001b[0m\u001b[0;34m\u001b[0m\u001b[0;34m\u001b[0m\u001b[0m\n\u001b[0m\u001b[1;32m     65\u001b[0m \u001b[0ma2\u001b[0m \u001b[0;34m=\u001b[0m \u001b[0mintt\u001b[0m\u001b[0;34m(\u001b[0m\u001b[0mA\u001b[0m\u001b[0;34m[\u001b[0m\u001b[0;34m:\u001b[0m\u001b[0;34m]\u001b[0m\u001b[0;34m)\u001b[0m                     \u001b[0;31m# back to time domain\u001b[0m\u001b[0;34m\u001b[0m\u001b[0;34m\u001b[0m\u001b[0m\n\u001b[1;32m     66\u001b[0m \u001b[0;34m\u001b[0m\u001b[0m\n",
      "\u001b[0;32m/tmp/ipykernel_743875/349547281.py\u001b[0m in \u001b[0;36mntt\u001b[0;34m(a, root)\u001b[0m\n\u001b[1;32m     31\u001b[0m     \u001b[0;34m\"\"\"in-place radix-2 NTT (root = ω or ω⁻¹)\"\"\"\u001b[0m\u001b[0;34m\u001b[0m\u001b[0;34m\u001b[0m\u001b[0m\n\u001b[1;32m     32\u001b[0m     \u001b[0mN\u001b[0m     \u001b[0;34m=\u001b[0m \u001b[0mlen\u001b[0m\u001b[0;34m(\u001b[0m\u001b[0ma\u001b[0m\u001b[0;34m)\u001b[0m\u001b[0;34m\u001b[0m\u001b[0;34m\u001b[0m\u001b[0m\n\u001b[0;32m---> 33\u001b[0;31m     \u001b[0mlogN\u001b[0m  \u001b[0;34m=\u001b[0m \u001b[0mN\u001b[0m\u001b[0;34m.\u001b[0m\u001b[0mnbits\u001b[0m\u001b[0;34m(\u001b[0m\u001b[0;34m)\u001b[0m \u001b[0;34m-\u001b[0m \u001b[0mInteger\u001b[0m\u001b[0;34m(\u001b[0m\u001b[0;36m1\u001b[0m\u001b[0;34m)\u001b[0m\u001b[0;34m\u001b[0m\u001b[0;34m\u001b[0m\u001b[0m\n\u001b[0m\u001b[1;32m     34\u001b[0m     \u001b[0;31m# –– bit-reversal permutation ––\u001b[0m\u001b[0;34m\u001b[0m\u001b[0;34m\u001b[0m\u001b[0m\n\u001b[1;32m     35\u001b[0m     \u001b[0;32mfor\u001b[0m \u001b[0mi\u001b[0m \u001b[0;32min\u001b[0m \u001b[0mrange\u001b[0m\u001b[0;34m(\u001b[0m\u001b[0mN\u001b[0m\u001b[0;34m)\u001b[0m\u001b[0;34m:\u001b[0m\u001b[0;34m\u001b[0m\u001b[0;34m\u001b[0m\u001b[0m\n",
      "\u001b[0;31mAttributeError\u001b[0m: 'int' object has no attribute 'nbits'"
     ]
    }
   ],
   "source": [
    "###############################################################################\n",
    "# 1.  Parameters\n",
    "###############################################################################\n",
    "n  = 2^20                        # transform length (power of two is simplest)\n",
    "p  = 998_244_353                 # 2^23·119 + 1   – a classic “NTT-friendly” prime\n",
    "F  = GF(p)                       # prime finite field 𝔽p\n",
    "\n",
    "#–– Every NTT needs a primitive n-th root of unity in the field ––#\n",
    "g     = F(3)                     # 3 is a generator of 𝔽p×\n",
    "omega = g^((p-1)//n)             # ω = g^{(p−1)/n}\n",
    "assert omega^n == 1 and all((omega^k != 1) for k in (1..n-1))    # safety check\n",
    "\n",
    "###############################################################################\n",
    "# 2.  A reference polynomial we want to transform\n",
    "###############################################################################\n",
    "R.<x> = PolynomialRing(F)\n",
    "poly  = R.random_element(degree=n-1)   # random polynomial of degree < n\n",
    "coeff = poly.list() + [F(0)]*(n - poly.degree() - 1)  # pad to length n\n",
    "\n",
    "###############################################################################\n",
    "# 3.  Cooley–Tukey radix-2 iterative NTT / iNTT\n",
    "###############################################################################\n",
    "def bitrev(i, bits):                      # standard bit-reverse helper\n",
    "    r = 0\n",
    "    for _ in range(bits):\n",
    "        r = (r<<1) | (i & 1)\n",
    "        i >>= 1\n",
    "    return r\n",
    "\n",
    "def ntt(a, root):\n",
    "    \"\"\"in-place radix-2 NTT (root = ω or ω⁻¹)\"\"\"\n",
    "    N     = len(a)\n",
    "    logN  = N.nbits() - 1\n",
    "    # –– bit-reversal permutation ––\n",
    "    for i in range(N):\n",
    "        j = bitrev(i, logN)\n",
    "        if i < j:\n",
    "            a[i], a[j] = a[j], a[i]\n",
    "\n",
    "    len_ = 1\n",
    "    while len_ < N:\n",
    "        w_m = root^(N // (2*len_))\n",
    "        for k in range(0, N, 2*len_):\n",
    "            w = F(1)\n",
    "            for j in range(len_):\n",
    "                u = a[k + j]\n",
    "                v = w * a[k + j + len_]\n",
    "                a[k + j]           = u + v\n",
    "                a[k + j + len_]    = u - v\n",
    "                w *= w_m\n",
    "        len_ <<= 1\n",
    "    return a\n",
    "\n",
    "def intt(a):\n",
    "    n_inv = F(1) / F(len(a))\n",
    "    ntt(a, omega^-1)                 # inverse transform is NTT with ω⁻¹\n",
    "    for i in range(len(a)):          # scale by n⁻¹\n",
    "        a[i] *= n_inv\n",
    "    return a\n",
    "\n",
    "###############################################################################\n",
    "# 4.  Perform forward and inverse transforms\n",
    "###############################################################################\n",
    "A  = ntt(coeff[:], omega)           # forward NTT  (copy because it’s in-place)\n",
    "a2 = intt(A[:])                     # back to time domain\n",
    "\n",
    "assert coeff == a2                  # round-trip test\n",
    "print(\"NTT / iNTT round-trip successful.\")"
   ]
  },
  {
   "cell_type": "code",
   "execution_count": null,
   "metadata": {
    "vscode": {
     "languageId": "plaintext"
    }
   },
   "outputs": [],
   "source": []
  }
 ],
 "metadata": {
  "kernelspec": {
   "display_name": "SageMath 9.5",
   "language": "sage",
   "name": "sagemath"
  },
  "language_info": {
   "codemirror_mode": {
    "name": "ipython",
    "version": 3
   },
   "file_extension": ".py",
   "mimetype": "text/x-python",
   "name": "python",
   "nbconvert_exporter": "python",
   "pygments_lexer": "ipython3",
   "version": "3.10.12"
  }
 },
 "nbformat": 4,
 "nbformat_minor": 2
}
