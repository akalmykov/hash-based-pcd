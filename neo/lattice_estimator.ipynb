{
 "cells": [
  {
   "cell_type": "code",
   "execution_count": null,
   "id": "91d7cfee",
   "metadata": {
    "vscode": {
     "languageId": "plaintext"
    }
   },
   "outputs": [
    {
     "name": "stdout",
     "output_type": "stream",
     "text": [
      "lattice  :: rop: ≈2^127.3, red: ≈2^127.3, δ: 1.004461, β: 339, d: 2878, tag: euclidean\n",
      "True\n",
      "lattice  :: rop: ≈2^264.5, red: ≈2^264.5, δ: 1.002355, β: 828, d: 5625, tag: euclidean\n",
      "{'lattice': rop: ≈2^264.5, red: ≈2^264.5, δ: 1.002355, β: 828, d: 5625, tag: euclidean}\n",
      "False\n"
     ]
    }
   ],
   "source": [
    "\n",
    "from estimator import *\n",
    "M61 = 2 ^ 61 - 1\n",
    "GL = 2 ^ 64 - 2 ^ 32 + 1\n",
    "AGL = GL - 32\n",
    "n = 13\n",
    "d = 64\n",
    "T = 128\n",
    "k = 11\n",
    "b = 2\n",
    "B = b ^ k\n",
    "m = 2 ^ 26\n",
    "q = AGL\n",
    "n_sis = n * d\n",
    "m_sis = m * d\n",
    "B_l2 = sqrt(m * d) * (8 * T * B)\n",
    "params = SIS.Parameters(n=n_sis, q=q, m=m_sis, length_bound=B_l2, norm=2)\n",
    "_ = SIS.estimate(params)\n",
    "print((k + 1) * T * (b - 1) < B)\n",
    "\n",
    "# cyclotomic_index 121\n",
    "# chals_norm 2\n",
    "# euler_phi(m) 110\n",
    "####\n",
    "# Cyclotomic idx: 121\n",
    "# Cyclotomic Poly: x^110 + x^99 + x^88 + x^77 + x^66 + x^55 + x^44 + x^33 + x^22 + x^11 + 1\n",
    "# z: 11\n",
    "# Csmall norm is small enough? True\n",
    "# Csmall large enough? True\n",
    "# Degree of Cyclotomic: 110\n",
    "# Expansion Factor T: 440\n",
    "# Invertible Norm bound: 20.6817188974133\n",
    "# log(|C_Small|): 255.412090437610\n",
    "# Factors of Cyclotomic: 10\n",
    "\n",
    "n = 16 \n",
    "d = 110\n",
    "T = 440\n",
    "k = 12 \n",
    "b = 2\n",
    "B = b ^ k\n",
    "m = 2 ^ 22\n",
    "q = M61\n",
    "n_sis = n * d\n",
    "m_sis = m * d\n",
    "B_l2 = sqrt(m * d) * (8 * T * B)\n",
    "params = SIS.Parameters(n=n_sis, q=q, m=m_sis, length_bound=B_l2, norm=2)\n",
    "estimate_output = SIS.estimate(params)\n",
    "print(estimate_output)\n",
    "print((k + 1) * T * (b - 1) < B)\n"
   ]
  },
  {
   "cell_type": "code",
   "execution_count": 1,
   "id": "2a38fa7e",
   "metadata": {
    "vscode": {
     "languageId": "plaintext"
    }
   },
   "outputs": [
    {
     "name": "stdout",
     "output_type": "stream",
     "text": [
      "lattice  :: rop: ≈2^127.3, red: ≈2^127.3, δ: 1.004461, β: 339, d: 2878, tag: euclidean\n",
      "True\n",
      "lattice  :: rop: ≈2^128.7, red: ≈2^128.7, δ: 1.004417, β: 344, d: 2877, tag: euclidean\n",
      "True\n",
      "lattice  :: rop: ≈2^127.9, red: ≈2^127.9, δ: 1.004443, β: 341, d: 2938, tag: euclidean\n",
      "True\n"
     ]
    }
   ],
   "source": [
    "\n",
    "from estimator import *\n",
    "M61 = 2 ^ 61 - 1\n",
    "GL = 2 ^ 64 - 2 ^ 32 + 1\n",
    "AGL = GL - 32\n",
    "n = 13\n",
    "d = 64\n",
    "T = 128\n",
    "k = 11\n",
    "b = 2\n",
    "B = b ^ k\n",
    "m = 2 ^ 26\n",
    "q = AGL\n",
    "n_sis = n * d\n",
    "m_sis = m * d\n",
    "B_l2 = sqrt(m * d) * (8 * T * B)\n",
    "params = SIS.Parameters(n=n_sis, q=q, m=m_sis, length_bound=B_l2, norm=2)\n",
    "_ = SIS.estimate(params)\n",
    "print((k + 1) * T * (b - 1) < B)\n",
    "n = 16\n",
    "d = 54\n",
    "T = 216\n",
    "k = 12\n",
    "b = 2\n",
    "B = b ^ k\n",
    "m = 2 ^ 22\n",
    "q = M61\n",
    "n_sis = n * d\n",
    "m_sis = m * d\n",
    "B_l2 = sqrt(m * d) * (8 * T * B)\n",
    "params = SIS.Parameters(n=n_sis, q=q, m=m_sis, length_bound=B_l2, norm=2)\n",
    "_ = SIS.estimate(params)\n",
    "print((k + 1) * T * (b - 1) < B)\n",
    "n = 16\n",
    "d = 54\n",
    "T = 216\n",
    "k = 12\n",
    "b = 2\n",
    "B = b ^ k\n",
    "m = 2 ^ 24\n",
    "q = GL\n",
    "n_sis = n * d\n",
    "m_sis = m * d\n",
    "B_l2 = sqrt(m * d) * (8 * T * B)\n",
    "params = SIS.Parameters(n=n_sis, q=q, m=m_sis, length_bound=B_l2, norm=2)\n",
    "_ = SIS.estimate(params)\n",
    "print((k + 1) * T * (b - 1) < B)\n"
   ]
  },
  {
   "cell_type": "code",
   "execution_count": null,
   "id": "ac1e7968",
   "metadata": {
    "vscode": {
     "languageId": "plaintext"
    }
   },
   "outputs": [],
   "source": []
  }
 ],
 "metadata": {
  "kernelspec": {
   "display_name": "SageMath 9.5",
   "language": "sage",
   "name": "sagemath"
  },
  "language_info": {
   "codemirror_mode": {
    "name": "ipython",
    "version": 3
   },
   "file_extension": ".py",
   "mimetype": "text/x-python",
   "name": "python",
   "nbconvert_exporter": "python",
   "pygments_lexer": "ipython3",
   "version": "3.10.12"
  }
 },
 "nbformat": 4,
 "nbformat_minor": 5
}
