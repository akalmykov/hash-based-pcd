{
 "cells": [
  {
   "cell_type": "code",
   "execution_count": 63,
   "id": "e7d0d49a",
   "metadata": {
    "vscode": {
     "languageId": "plaintext"
    }
   },
   "outputs": [
    {
     "name": "stdout",
     "output_type": "stream",
     "text": [
      "tilde_f_r 1361581463073361177*u + 920317446844462061\n",
      "test_tilde_f_r 708843070667643814*u + 2136796145987275717\n"
     ]
    },
    {
     "ename": "AssertionError",
     "evalue": "",
     "output_type": "error",
     "traceback": [
      "\u001b[0;31m---------------------------------------------------------------------------\u001b[0m",
      "\u001b[0;31mAssertionError\u001b[0m                            Traceback (most recent call last)",
      "\u001b[0;32m/tmp/ipykernel_599461/2394706522.py\u001b[0m in \u001b[0;36m<module>\u001b[0;34m\u001b[0m\n\u001b[1;32m    103\u001b[0m \u001b[0mtest_tilde_f_r\u001b[0m \u001b[0;34m=\u001b[0m \u001b[0mv_tilde\u001b[0m\u001b[0;34m(\u001b[0m\u001b[0mr\u001b[0m\u001b[0;34m)\u001b[0m\u001b[0;34m\u001b[0m\u001b[0;34m\u001b[0m\u001b[0m\n\u001b[1;32m    104\u001b[0m \u001b[0mprint\u001b[0m\u001b[0;34m(\u001b[0m\u001b[0;34m\"test_tilde_f_r\"\u001b[0m\u001b[0;34m,\u001b[0m \u001b[0mtest_tilde_f_r\u001b[0m\u001b[0;34m)\u001b[0m\u001b[0;34m\u001b[0m\u001b[0;34m\u001b[0m\u001b[0m\n\u001b[0;32m--> 105\u001b[0;31m \u001b[0;32massert\u001b[0m \u001b[0mtilde_f_r\u001b[0m \u001b[0;34m==\u001b[0m \u001b[0mtest_tilde_f_r\u001b[0m\u001b[0;34m\u001b[0m\u001b[0;34m\u001b[0m\u001b[0m\n\u001b[0m",
      "\u001b[0;31mAssertionError\u001b[0m: "
     ]
    }
   ],
   "source": [
    "import itertools\n",
    "from functools import reduce\n",
    "from itertools import product\n",
    "\n",
    "import operator\n",
    "\n",
    "K = Fields()\n",
    "\n",
    "q = 2**61 - 1\n",
    "Fq = GF(q)\n",
    "x = polygen(Fq, 'x')\n",
    "Fq2.<u> = Fq.extension(x^2+1)\n",
    "log_n = 4\n",
    "n = 2**log_n\n",
    "v = vector(Fq, [Fq.random_element() for _ in range(n)])\n",
    "\n",
    "def get_bit(n, k):\n",
    "    return (n >> k) & 1\n",
    "\n",
    "def int_to_bits(n, bit_length=None):\n",
    "    if bit_length is None:\n",
    "        bit_length = n.bit_length() if n != 0 else 1\n",
    "    return [(n >> i) & 1 for i in range(bit_length)]\n",
    "\n",
    "def multilinear_extension(v, F, var_names=None):\n",
    "    n = len(v)\n",
    "    m = n.bit_length() - 1\n",
    "    if 2 ** m != n:\n",
    "        raise ValueError(\"Vector length must be a power of 2.\")\n",
    "    \n",
    "    if var_names is None:\n",
    "        var_names = [f'X{i}' for i in range(1, m+1)]\n",
    "    R = PolynomialRing(F, var_names)\n",
    "    X = R.gens()\n",
    "    p = R.zero()\n",
    "    \n",
    "    for i in range(n):\n",
    "        term = F(v[i]) \n",
    "        bits = int_to_bits(i,m) \n",
    "        \n",
    "        for j in range(m):\n",
    "            if bits[j] == 1:\n",
    "                term *= X[j]\n",
    "            else:\n",
    "                term *= (1 - X[j])\n",
    "        p += term\n",
    "    return p\n",
    "\n",
    "v_tilde = multilinear_extension(v, Fq)\n",
    "\n",
    "for i, t in enumerate(v):\n",
    "  assert t == v_tilde([j for j in int_to_bits(i, log_n)])\n",
    "\n",
    "\n",
    "def multilinear_matrix_extension(M, F, var_names=None):\n",
    "    d, n = M.dimensions()\n",
    "    total_elements = d * n\n",
    "    \n",
    "    m = total_elements.bit_length() - 1\n",
    "    if 2^m != total_elements:\n",
    "        raise ValueError(\"Matrix dimensions must multiply to a power of 2 (d * n = 2^m).\")\n",
    "    \n",
    "    # Flatten the matrix into a vector (row-major order)\n",
    "    v = M.list()\n",
    "    \n",
    "    if var_names is None:\n",
    "        var_names = [f'X{i}' for i in range(1, m+1)]\n",
    "    R = PolynomialRing(F, var_names)\n",
    "    X = R.gens()\n",
    "    \n",
    "    p = R.zero()\n",
    "    for i in range(total_elements):\n",
    "        term = F(v[i])  \n",
    "        bits = int_to_bits(i,m) \n",
    "        \n",
    "        for j in range(m):\n",
    "            if bits[j] == 1:\n",
    "                term *= X[j]\n",
    "            else:\n",
    "                term *= (1 - X[j])\n",
    "        \n",
    "        p += term\n",
    "    \n",
    "    return p\n",
    "\n",
    "M = Matrix(Fq, [[ Fq.random_element() for _ in range(n)] for _ in range(n)])\n",
    "M_tilde = multilinear_matrix_extension(M, Fq)\n",
    "\n",
    "for i, row in enumerate(M):\n",
    "  for j, e in enumerate(row):\n",
    "    assert M[i][j] == M_tilde([y for y in int_to_bits(j, log_n)]+[x for x in int_to_bits(i, log_n)])\n",
    "\n",
    "r = [Fq2.random_element() for _ in range(log_n)]\n",
    "\n",
    "tensor_factors = [(ri, 1 - ri) for ri in r]\n",
    "hat_r = vector(Fq2, [\n",
    "    reduce(operator.mul, [vec[i] for vec, i in zip(tensor_factors, idx)])\n",
    "    for idx in product([0,1], repeat=log_n)\n",
    "])\n",
    "assert len(hat_r) == len(v)\n",
    "tilde_f_r = sum(v[i] * hat_r[i] for i in range(log_n))\n",
    "print(\"tilde_f_r\", tilde_f_r)\n",
    "test_tilde_f_r = v_tilde(r)\n",
    "print(\"test_tilde_f_r\", test_tilde_f_r)\n",
    "assert tilde_f_r == test_tilde_f_r\n"
   ]
  },
  {
   "cell_type": "code",
   "execution_count": null,
   "id": "05fe4660",
   "metadata": {
    "vscode": {
     "languageId": "plaintext"
    }
   },
   "outputs": [],
   "source": [
    "\n"
   ]
  }
 ],
 "metadata": {
  "kernelspec": {
   "display_name": "SageMath 9.5",
   "language": "sage",
   "name": "sagemath"
  },
  "language_info": {
   "codemirror_mode": {
    "name": "ipython",
    "version": 3
   },
   "file_extension": ".py",
   "mimetype": "text/x-python",
   "name": "python",
   "nbconvert_exporter": "python",
   "pygments_lexer": "ipython3",
   "version": "3.10.12"
  }
 },
 "nbformat": 4,
 "nbformat_minor": 5
}
